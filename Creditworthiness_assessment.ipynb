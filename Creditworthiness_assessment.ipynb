{
 "cells": [
  {
   "cell_type": "code",
   "execution_count": 4,
   "id": "73e90c21",
   "metadata": {},
   "outputs": [],
   "source": [
    "import pandas as pd\n",
    "import numpy as np\n",
    "from sklearn.model_selection import train_test_split\n",
    "from sklearn.tree import DecisionTreeClassifier\n",
    "from sklearn.metrics import accuracy_score, confusion_matrix, classification_report\n",
    "import matplotlib.pyplot as plt\n",
    "from sklearn import tree"
   ]
  },
  {
   "cell_type": "code",
   "execution_count": 5,
   "id": "2904bf22",
   "metadata": {},
   "outputs": [],
   "source": [
    "# Wczytanie danych\n",
    "# Dane pochodzą z: https://www.kaggle.com/datasets/sujithmandala/credit-score-classification-dataset\n",
    "\n",
    "data = pd.read_csv('Credit Score Classification Dataset.csv')"
   ]
  },
  {
   "cell_type": "code",
   "execution_count": 6,
   "id": "a004a26c",
   "metadata": {},
   "outputs": [
    {
     "name": "stdout",
     "output_type": "stream",
     "text": [
      "   Age  Gender  Income            Education Marital Status  \\\n",
      "0   25  Female   50000    Bachelor's Degree         Single   \n",
      "1   30    Male  100000      Master's Degree        Married   \n",
      "2   35  Female   75000            Doctorate        Married   \n",
      "3   40    Male  125000  High School Diploma         Single   \n",
      "4   45  Female  100000    Bachelor's Degree        Married   \n",
      "\n",
      "   Number of Children Home Ownership Credit Score  \n",
      "0                   0         Rented         High  \n",
      "1                   2          Owned         High  \n",
      "2                   1          Owned         High  \n",
      "3                   0          Owned         High  \n",
      "4                   3          Owned         High  \n"
     ]
    }
   ],
   "source": [
    "# Pierwsze spojrzenie na dane\n",
    "\n",
    "print(data.head())"
   ]
  },
  {
   "cell_type": "code",
   "execution_count": 7,
   "id": "33f732ec",
   "metadata": {},
   "outputs": [
    {
     "name": "stdout",
     "output_type": "stream",
     "text": [
      "   Age  Gender  Income            Education Martial Status  \\\n",
      "0   25  Female   50000    Bachelor's Degree         Single   \n",
      "1   30    Male  100000      Master's Degree        Married   \n",
      "2   35  Female   75000            Doctorate        Married   \n",
      "3   40    Male  125000  High School Diploma         Single   \n",
      "4   45  Female  100000    Bachelor's Degree        Married   \n",
      "\n",
      "   Number of Children Home Ownership Credit Score  \n",
      "0                   0         Rented         High  \n",
      "1                   2          Owned         High  \n",
      "2                   1          Owned         High  \n",
      "3                   0          Owned         High  \n",
      "4                   3          Owned         High  \n"
     ]
    }
   ],
   "source": [
    "# Korekta nazwy kolumny\n",
    "\n",
    "data.rename(columns={'Marital Status': 'Martial Status'}, inplace=True)\n",
    "\n",
    "print(data.head())"
   ]
  },
  {
   "cell_type": "code",
   "execution_count": 8,
   "id": "24d3aead",
   "metadata": {},
   "outputs": [
    {
     "name": "stdout",
     "output_type": "stream",
     "text": [
      "Gender:  ['Female' 'Male']\n",
      "Education:  [\"Bachelor's Degree\" \"Master's Degree\" 'Doctorate' 'High School Diploma'\n",
      " \"Associate's Degree\"]\n",
      "Martial Status:  ['Single' 'Married']\n",
      "Home Ownership:  ['Rented' 'Owned']\n",
      "Credit Score:  ['High' 'Average' 'Low']\n"
     ]
    }
   ],
   "source": [
    "# Wyświetlenie uniklanych wartośći dla danych tekstowych\n",
    "\n",
    "print(\"Gender: \", data['Gender'].unique())\n",
    "print(\"Education: \", data['Education'].unique())\n",
    "print(\"Martial Status: \", data['Martial Status'].unique())\n",
    "print(\"Home Ownership: \", data['Home Ownership'].unique())\n",
    "print(\"Credit Score: \", data['Credit Score'].unique())"
   ]
  },
  {
   "cell_type": "code",
   "execution_count": 9,
   "id": "8481e471",
   "metadata": {},
   "outputs": [
    {
     "name": "stdout",
     "output_type": "stream",
     "text": [
      "Age                   0\n",
      "Gender                0\n",
      "Income                0\n",
      "Education             0\n",
      "Martial Status        0\n",
      "Number of Children    0\n",
      "Home Ownership        0\n",
      "Credit Score          0\n",
      "dtype: int64\n"
     ]
    }
   ],
   "source": [
    "# Sprawdzenie wartości NaN\n",
    "\n",
    "nan_counts = data.isna().sum()\n",
    "\n",
    "print(nan_counts)"
   ]
  },
  {
   "cell_type": "code",
   "execution_count": 10,
   "id": "876b3588",
   "metadata": {},
   "outputs": [
    {
     "name": "stdout",
     "output_type": "stream",
     "text": [
      "Age                   0\n",
      "Gender                0\n",
      "Income                0\n",
      "Education             0\n",
      "Martial Status        0\n",
      "Number of Children    0\n",
      "Home Ownership        0\n",
      "Credit Score          0\n",
      "dtype: int64\n"
     ]
    }
   ],
   "source": [
    "# Sprawdzenie wartości pustych\n",
    "\n",
    "nan_counts = data.isnull().sum()\n",
    "\n",
    "print(nan_counts)"
   ]
  },
  {
   "cell_type": "code",
   "execution_count": 11,
   "id": "12e84414",
   "metadata": {},
   "outputs": [],
   "source": [
    "# Zakodowanie wartości:\n",
    "# dla kolumny Gender: Female jako 0, Male jako 1\n",
    "# dla kolumny Education: Bachelor's Degree jako 0, Master's Degree jako 1, Doctorate jako 2, High School Diploma jako 3, Associate's Degree jako 4\n",
    "\n",
    "\n",
    "data['Gender'] = data['Gender'].replace({'Female': 0, 'Male': 1})\n",
    "data['Education'] = data['Education'].replace({\"Bachelor's Degree\": 0, \"Master's Degree\": 1, 'Doctorate': 2, 'High School Diploma': 3, \"Associate's Degree\": 4})\n",
    "data['Martial Status'] = data['Martial Status'].replace({'Single': 0, 'Married': 1})\n",
    "data['Home Ownership'] = data['Home Ownership'].replace({'Rented': 0, 'Owned': 1})\n",
    "data['Credit Score'] = data['Credit Score'].replace({'Low': 0, 'Average': 1, 'High': 2})"
   ]
  },
  {
   "cell_type": "code",
   "execution_count": 12,
   "id": "0db30c23",
   "metadata": {},
   "outputs": [
    {
     "name": "stdout",
     "output_type": "stream",
     "text": [
      "   Age  Gender  Income  Education  Martial Status  Number of Children  \\\n",
      "0   25       0   50000          0               0                   0   \n",
      "1   30       1  100000          1               1                   2   \n",
      "2   35       0   75000          2               1                   1   \n",
      "3   40       1  125000          3               0                   0   \n",
      "4   45       0  100000          0               1                   3   \n",
      "\n",
      "   Home Ownership  Credit Score  \n",
      "0               0             2  \n",
      "1               1             2  \n",
      "2               1             2  \n",
      "3               1             2  \n",
      "4               1             2  \n",
      "Age                   int64\n",
      "Gender                int64\n",
      "Income                int64\n",
      "Education             int64\n",
      "Martial Status        int64\n",
      "Number of Children    int64\n",
      "Home Ownership        int64\n",
      "Credit Score          int64\n",
      "dtype: object\n"
     ]
    }
   ],
   "source": [
    "# Wyświetlenie danych i informacji o nich\n",
    "\n",
    "print(data.head())\n",
    "print(data.dtypes)"
   ]
  },
  {
   "cell_type": "code",
   "execution_count": 13,
   "id": "12cb7ff9",
   "metadata": {},
   "outputs": [
    {
     "name": "stdout",
     "output_type": "stream",
     "text": [
      "              Age      Gender         Income   Education  Martial Status  \\\n",
      "count  164.000000  164.000000     164.000000  164.000000      164.000000   \n",
      "mean    37.975610    0.475610   83765.243902    1.756098        0.530488   \n",
      "std      8.477289    0.500934   32457.306728    1.410399        0.500598   \n",
      "min     25.000000    0.000000   25000.000000    0.000000        0.000000   \n",
      "25%     30.750000    0.000000   57500.000000    0.000000        0.000000   \n",
      "50%     37.000000    0.000000   83750.000000    2.000000        1.000000   \n",
      "75%     45.000000    1.000000  105000.000000    3.000000        1.000000   \n",
      "max     53.000000    1.000000  162500.000000    4.000000        1.000000   \n",
      "\n",
      "       Number of Children  Home Ownership  Credit Score  \n",
      "count          164.000000      164.000000    164.000000  \n",
      "mean             0.652439        0.676829      1.597561  \n",
      "std              0.883346        0.469120      0.652692  \n",
      "min              0.000000        0.000000      0.000000  \n",
      "25%              0.000000        0.000000      1.000000  \n",
      "50%              0.000000        1.000000      2.000000  \n",
      "75%              1.000000        1.000000      2.000000  \n",
      "max              3.000000        1.000000      2.000000  \n"
     ]
    }
   ],
   "source": [
    "# Statystyki opisowe danych\n",
    "\n",
    "print(data.describe())"
   ]
  },
  {
   "cell_type": "code",
   "execution_count": 14,
   "id": "73cb4278",
   "metadata": {},
   "outputs": [],
   "source": [
    "# Wybór cech i etykiet\n",
    "\n",
    "X = data.drop('Credit Score', axis=1)\n",
    "y = data['Credit Score']"
   ]
  },
  {
   "cell_type": "code",
   "execution_count": 15,
   "id": "9a84314c",
   "metadata": {},
   "outputs": [],
   "source": [
    "# Podział na zbiór treningowy i testowy\n",
    "\n",
    "X_train, X_test, y_train, y_test = train_test_split(X, y, test_size=0.2, random_state=42)"
   ]
  },
  {
   "cell_type": "code",
   "execution_count": 16,
   "id": "633824fd",
   "metadata": {},
   "outputs": [],
   "source": [
    "# Inicjalizacja modelu drzewa decyzyjnego\n",
    "\n",
    "model = DecisionTreeClassifier(random_state=42)"
   ]
  },
  {
   "cell_type": "code",
   "execution_count": 17,
   "id": "d9370946",
   "metadata": {},
   "outputs": [
    {
     "data": {
      "text/html": [
       "<style>#sk-container-id-1 {color: black;}#sk-container-id-1 pre{padding: 0;}#sk-container-id-1 div.sk-toggleable {background-color: white;}#sk-container-id-1 label.sk-toggleable__label {cursor: pointer;display: block;width: 100%;margin-bottom: 0;padding: 0.3em;box-sizing: border-box;text-align: center;}#sk-container-id-1 label.sk-toggleable__label-arrow:before {content: \"▸\";float: left;margin-right: 0.25em;color: #696969;}#sk-container-id-1 label.sk-toggleable__label-arrow:hover:before {color: black;}#sk-container-id-1 div.sk-estimator:hover label.sk-toggleable__label-arrow:before {color: black;}#sk-container-id-1 div.sk-toggleable__content {max-height: 0;max-width: 0;overflow: hidden;text-align: left;background-color: #f0f8ff;}#sk-container-id-1 div.sk-toggleable__content pre {margin: 0.2em;color: black;border-radius: 0.25em;background-color: #f0f8ff;}#sk-container-id-1 input.sk-toggleable__control:checked~div.sk-toggleable__content {max-height: 200px;max-width: 100%;overflow: auto;}#sk-container-id-1 input.sk-toggleable__control:checked~label.sk-toggleable__label-arrow:before {content: \"▾\";}#sk-container-id-1 div.sk-estimator input.sk-toggleable__control:checked~label.sk-toggleable__label {background-color: #d4ebff;}#sk-container-id-1 div.sk-label input.sk-toggleable__control:checked~label.sk-toggleable__label {background-color: #d4ebff;}#sk-container-id-1 input.sk-hidden--visually {border: 0;clip: rect(1px 1px 1px 1px);clip: rect(1px, 1px, 1px, 1px);height: 1px;margin: -1px;overflow: hidden;padding: 0;position: absolute;width: 1px;}#sk-container-id-1 div.sk-estimator {font-family: monospace;background-color: #f0f8ff;border: 1px dotted black;border-radius: 0.25em;box-sizing: border-box;margin-bottom: 0.5em;}#sk-container-id-1 div.sk-estimator:hover {background-color: #d4ebff;}#sk-container-id-1 div.sk-parallel-item::after {content: \"\";width: 100%;border-bottom: 1px solid gray;flex-grow: 1;}#sk-container-id-1 div.sk-label:hover label.sk-toggleable__label {background-color: #d4ebff;}#sk-container-id-1 div.sk-serial::before {content: \"\";position: absolute;border-left: 1px solid gray;box-sizing: border-box;top: 0;bottom: 0;left: 50%;z-index: 0;}#sk-container-id-1 div.sk-serial {display: flex;flex-direction: column;align-items: center;background-color: white;padding-right: 0.2em;padding-left: 0.2em;position: relative;}#sk-container-id-1 div.sk-item {position: relative;z-index: 1;}#sk-container-id-1 div.sk-parallel {display: flex;align-items: stretch;justify-content: center;background-color: white;position: relative;}#sk-container-id-1 div.sk-item::before, #sk-container-id-1 div.sk-parallel-item::before {content: \"\";position: absolute;border-left: 1px solid gray;box-sizing: border-box;top: 0;bottom: 0;left: 50%;z-index: -1;}#sk-container-id-1 div.sk-parallel-item {display: flex;flex-direction: column;z-index: 1;position: relative;background-color: white;}#sk-container-id-1 div.sk-parallel-item:first-child::after {align-self: flex-end;width: 50%;}#sk-container-id-1 div.sk-parallel-item:last-child::after {align-self: flex-start;width: 50%;}#sk-container-id-1 div.sk-parallel-item:only-child::after {width: 0;}#sk-container-id-1 div.sk-dashed-wrapped {border: 1px dashed gray;margin: 0 0.4em 0.5em 0.4em;box-sizing: border-box;padding-bottom: 0.4em;background-color: white;}#sk-container-id-1 div.sk-label label {font-family: monospace;font-weight: bold;display: inline-block;line-height: 1.2em;}#sk-container-id-1 div.sk-label-container {text-align: center;}#sk-container-id-1 div.sk-container {/* jupyter's `normalize.less` sets `[hidden] { display: none; }` but bootstrap.min.css set `[hidden] { display: none !important; }` so we also need the `!important` here to be able to override the default hidden behavior on the sphinx rendered scikit-learn.org. See: https://github.com/scikit-learn/scikit-learn/issues/21755 */display: inline-block !important;position: relative;}#sk-container-id-1 div.sk-text-repr-fallback {display: none;}</style><div id=\"sk-container-id-1\" class=\"sk-top-container\"><div class=\"sk-text-repr-fallback\"><pre>DecisionTreeClassifier(random_state=42)</pre><b>In a Jupyter environment, please rerun this cell to show the HTML representation or trust the notebook. <br />On GitHub, the HTML representation is unable to render, please try loading this page with nbviewer.org.</b></div><div class=\"sk-container\" hidden><div class=\"sk-item\"><div class=\"sk-estimator sk-toggleable\"><input class=\"sk-toggleable__control sk-hidden--visually\" id=\"sk-estimator-id-1\" type=\"checkbox\" checked><label for=\"sk-estimator-id-1\" class=\"sk-toggleable__label sk-toggleable__label-arrow\">DecisionTreeClassifier</label><div class=\"sk-toggleable__content\"><pre>DecisionTreeClassifier(random_state=42)</pre></div></div></div></div></div>"
      ],
      "text/plain": [
       "DecisionTreeClassifier(random_state=42)"
      ]
     },
     "execution_count": 17,
     "metadata": {},
     "output_type": "execute_result"
    }
   ],
   "source": [
    "# Trenowanie modelu\n",
    "\n",
    "model.fit(X_train, y_train)"
   ]
  },
  {
   "cell_type": "code",
   "execution_count": 18,
   "id": "63a0411e",
   "metadata": {},
   "outputs": [],
   "source": [
    "# Predykcje na zbiorze testowym\n",
    "\n",
    "y_pred = model.predict(X_test)"
   ]
  },
  {
   "cell_type": "code",
   "execution_count": 19,
   "id": "39457950",
   "metadata": {},
   "outputs": [
    {
     "name": "stdout",
     "output_type": "stream",
     "text": [
      "Dokładność na danych treningowych: 1.0000\n"
     ]
    }
   ],
   "source": [
    "# Ocena dokładności na danych treningowych\n",
    "# Model bardzo dobrze dopasował się do danych treningowych co może sugerować przeuczenie\n",
    "\n",
    "y_train_pred = model.predict(X_train)\n",
    "train_accuracy = accuracy_score(y_train, y_train_pred)\n",
    "print(f'Dokładność na danych treningowych: {train_accuracy:.4f}')"
   ]
  },
  {
   "cell_type": "code",
   "execution_count": 20,
   "id": "e0ecf30b",
   "metadata": {},
   "outputs": [
    {
     "name": "stdout",
     "output_type": "stream",
     "text": [
      "Dokładność: 0.9697\n"
     ]
    }
   ],
   "source": [
    "# Ocena dokładności na danych testowych\n",
    "# Bardzo wysoką dokładność model osiągnął też dla danych testowych co może wskazywać na to, że jednak prawidło rozpoznaje dane, których jeszcze nie widział\n",
    "\n",
    "accuracy = accuracy_score(y_test, y_pred)\n",
    "print(f'Dokładność: {accuracy:.4f}')"
   ]
  },
  {
   "cell_type": "code",
   "execution_count": 25,
   "id": "72d67a8f",
   "metadata": {},
   "outputs": [
    {
     "name": "stdout",
     "output_type": "stream",
     "text": [
      "Macierz konfuzji:\n",
      "Przewidziana wartość:  0  1  2\n",
      "Aktualna wartość 0 [5 0 0]\n",
      "Aktualna wartość 1 [0 5 0]\n",
      "Aktualna wartość 2 [ 0  1 22]\n"
     ]
    }
   ],
   "source": [
    "# Macierz konfuzji\n",
    "# Otrzymane wyniki na zbiorze testowym wskazują, że:\n",
    "#  klasa 0 została 5 razy przewidziana poprawnie i ani razu błędnie;\n",
    "#  klasa 1 została 5 razy przewidziana poprawnie i ani razu błędnie;\n",
    "#  klasa 2 została 22 razy przewidziana poprawnie i raz błędnie jako klasa 1;\n",
    "\n",
    "\n",
    "conf_matrix = confusion_matrix(y_test, y_pred)\n",
    "\n",
    "print(\"Macierz konfuzji:\")\n",
    "print(\"Przewidziana wartość:  0  1  2\")\n",
    "for i, row in enumerate(conf_matrix):\n",
    "    print(f\"Aktualna wartość {i} {row}\")"
   ]
  },
  {
   "cell_type": "code",
   "execution_count": 22,
   "id": "35350a3a",
   "metadata": {},
   "outputs": [
    {
     "name": "stdout",
     "output_type": "stream",
     "text": [
      "Raport klasyfikacji:\n",
      "              precision    recall  f1-score   support\n",
      "\n",
      "           0       1.00      1.00      1.00         5\n",
      "           1       0.83      1.00      0.91         5\n",
      "           2       1.00      0.96      0.98        23\n",
      "\n",
      "    accuracy                           0.97        33\n",
      "   macro avg       0.94      0.99      0.96        33\n",
      "weighted avg       0.97      0.97      0.97        33\n",
      "\n"
     ]
    }
   ],
   "source": [
    "# Szczegółowy raport klasyfikacji\n",
    "\n",
    "class_report = classification_report(y_test, y_pred)\n",
    "print(f'Raport klasyfikacji:\\n{class_report}')\n",
    "\n",
    "# Wysoka precyzja oznacza, że niewiele przypadków zostało błędnie sklasyfikowanych jako pozytywne.\n",
    "# Wysoka czułość oznacza, że model dobrze wykrywa pozytywne przypadki.\n",
    "# Wysoki F1-score oznacza dobry balans między precyzją a czułością."
   ]
  },
  {
   "cell_type": "code",
   "execution_count": 23,
   "id": "e3b32e48",
   "metadata": {},
   "outputs": [],
   "source": [
    "# Nowe dane (przykładowe)\n",
    "\n",
    "new_data = pd.DataFrame({\n",
    "    'Age': [30, 60],\n",
    "    'Gender': [0, 1],\n",
    "    'Income': [100000, 25000],\n",
    "    'Education': [0, 3],\n",
    "    'Martial Status': [1, 0],\n",
    "    'Number of Children': [0, 3],\n",
    "    'Home Ownership': [1, 0],\n",
    "})"
   ]
  },
  {
   "cell_type": "code",
   "execution_count": 24,
   "id": "46e1b605",
   "metadata": {},
   "outputs": [
    {
     "name": "stdout",
     "output_type": "stream",
     "text": [
      "Nowe predykcje: [2 0]\n"
     ]
    }
   ],
   "source": [
    "#Predykcja zdolnośći kredytowej dla nowych danych\n",
    "\n",
    "new_predictions = model.predict(new_data)\n",
    "print(f'Nowe predykcje: {new_predictions}')"
   ]
  },
  {
   "cell_type": "code",
   "execution_count": null,
   "id": "1273d4f2",
   "metadata": {},
   "outputs": [],
   "source": [
    "# Problemem może być zbyta mała liczba danych na których uczył się model."
   ]
  }
 ],
 "metadata": {
  "kernelspec": {
   "display_name": "Python 3 (ipykernel)",
   "language": "python",
   "name": "python3"
  },
  "language_info": {
   "codemirror_mode": {
    "name": "ipython",
    "version": 3
   },
   "file_extension": ".py",
   "mimetype": "text/x-python",
   "name": "python",
   "nbconvert_exporter": "python",
   "pygments_lexer": "ipython3",
   "version": "3.11.4"
  }
 },
 "nbformat": 4,
 "nbformat_minor": 5
}
